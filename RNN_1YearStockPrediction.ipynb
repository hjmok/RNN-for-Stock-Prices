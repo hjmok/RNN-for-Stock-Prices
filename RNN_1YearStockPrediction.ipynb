{
  "nbformat": 4,
  "nbformat_minor": 0,
  "metadata": {
    "colab": {
      "name": "Github_RNNamdyear.ipynb",
      "provenance": [],
      "collapsed_sections": [],
      "toc_visible": true
    },
    "kernelspec": {
      "name": "python3",
      "display_name": "Python 3"
    }
  },
  "cells": [
    {
      "cell_type": "markdown",
      "metadata": {
        "id": "FaGbNdJw_vVg"
      },
      "source": [
        "# Part 1 - Data Preprocessing"
      ]
    },
    {
      "cell_type": "code",
      "metadata": {
        "id": "0ASLWiji9ZJr"
      },
      "source": [
        "import numpy as np\n",
        "import matplotlib.pyplot as plt\n",
        "import pandas as pd\n",
        "from sklearn.preprocessing import MinMaxScaler\n",
        "import tensorflow as tf"
      ],
      "execution_count": 1,
      "outputs": []
    },
    {
      "cell_type": "markdown",
      "metadata": {
        "id": "EBsjZ4SuAL1k"
      },
      "source": [
        "Importing the Dataset"
      ]
    },
    {
      "cell_type": "code",
      "metadata": {
        "colab": {
          "base_uri": "https://localhost:8080/",
          "height": 437
        },
        "id": "c7ZcfaC2Pwpz",
        "outputId": "312bd78c-0c7b-44c3-c300-ee7e4372a829"
      },
      "source": [
        "df = pd.read_csv('AMD.csv', index_col = 0, usecols = [0,1], parse_dates = True) #index_col = 0 grabs the first column and sets it to the index, parse_dates = True automatically makes pandas convert the index into a date time object. \r\n",
        "#usecols allows us to grab just the columns we want, in this case we just care about the open price of the stock\r\n",
        "df"
      ],
      "execution_count": 2,
      "outputs": [
        {
          "output_type": "execute_result",
          "data": {
            "text/html": [
              "<div>\n",
              "<style scoped>\n",
              "    .dataframe tbody tr th:only-of-type {\n",
              "        vertical-align: middle;\n",
              "    }\n",
              "\n",
              "    .dataframe tbody tr th {\n",
              "        vertical-align: top;\n",
              "    }\n",
              "\n",
              "    .dataframe thead th {\n",
              "        text-align: right;\n",
              "    }\n",
              "</style>\n",
              "<table border=\"1\" class=\"dataframe\">\n",
              "  <thead>\n",
              "    <tr style=\"text-align: right;\">\n",
              "      <th></th>\n",
              "      <th>Open</th>\n",
              "    </tr>\n",
              "    <tr>\n",
              "      <th>Date</th>\n",
              "      <th></th>\n",
              "    </tr>\n",
              "  </thead>\n",
              "  <tbody>\n",
              "    <tr>\n",
              "      <th>2009-05-22</th>\n",
              "      <td>4.430000</td>\n",
              "    </tr>\n",
              "    <tr>\n",
              "      <th>2009-05-26</th>\n",
              "      <td>4.260000</td>\n",
              "    </tr>\n",
              "    <tr>\n",
              "      <th>2009-05-27</th>\n",
              "      <td>4.570000</td>\n",
              "    </tr>\n",
              "    <tr>\n",
              "      <th>2009-05-28</th>\n",
              "      <td>4.750000</td>\n",
              "    </tr>\n",
              "    <tr>\n",
              "      <th>2009-05-29</th>\n",
              "      <td>4.710000</td>\n",
              "    </tr>\n",
              "    <tr>\n",
              "      <th>...</th>\n",
              "      <td>...</td>\n",
              "    </tr>\n",
              "    <tr>\n",
              "      <th>2018-08-23</th>\n",
              "      <td>21.190001</td>\n",
              "    </tr>\n",
              "    <tr>\n",
              "      <th>2018-08-24</th>\n",
              "      <td>22.910000</td>\n",
              "    </tr>\n",
              "    <tr>\n",
              "      <th>2018-08-27</th>\n",
              "      <td>24.940001</td>\n",
              "    </tr>\n",
              "    <tr>\n",
              "      <th>2018-08-28</th>\n",
              "      <td>25.510000</td>\n",
              "    </tr>\n",
              "    <tr>\n",
              "      <th>2018-08-29</th>\n",
              "      <td>24.360001</td>\n",
              "    </tr>\n",
              "  </tbody>\n",
              "</table>\n",
              "<p>2335 rows × 1 columns</p>\n",
              "</div>"
            ],
            "text/plain": [
              "                 Open\n",
              "Date                 \n",
              "2009-05-22   4.430000\n",
              "2009-05-26   4.260000\n",
              "2009-05-27   4.570000\n",
              "2009-05-28   4.750000\n",
              "2009-05-29   4.710000\n",
              "...               ...\n",
              "2018-08-23  21.190001\n",
              "2018-08-24  22.910000\n",
              "2018-08-27  24.940001\n",
              "2018-08-28  25.510000\n",
              "2018-08-29  24.360001\n",
              "\n",
              "[2335 rows x 1 columns]"
            ]
          },
          "metadata": {
            "tags": []
          },
          "execution_count": 2
        }
      ]
    },
    {
      "cell_type": "code",
      "metadata": {
        "colab": {
          "base_uri": "https://localhost:8080/"
        },
        "id": "BHQml2IyQT_7",
        "outputId": "8127bc0f-ef16-4ade-f835-59ebb2907b41"
      },
      "source": [
        "df = df.dropna() #dropping any null values\r\n",
        "len(df) #length is the same, so there were no null values"
      ],
      "execution_count": 3,
      "outputs": [
        {
          "output_type": "execute_result",
          "data": {
            "text/plain": [
              "2335"
            ]
          },
          "metadata": {
            "tags": []
          },
          "execution_count": 3
        }
      ]
    },
    {
      "cell_type": "code",
      "metadata": {
        "colab": {
          "base_uri": "https://localhost:8080/",
          "height": 238
        },
        "id": "BVEgybKXRtZ5",
        "outputId": "7ac6fd44-0d1d-4eb8-defd-879acaa12b87"
      },
      "source": [
        "df.plot(figsize=(9,3)) #Looks like AMD picked up in the last few years"
      ],
      "execution_count": 4,
      "outputs": [
        {
          "output_type": "execute_result",
          "data": {
            "text/plain": [
              "<matplotlib.axes._subplots.AxesSubplot at 0x7fbaf151b208>"
            ]
          },
          "metadata": {
            "tags": []
          },
          "execution_count": 4
        },
        {
          "output_type": "display_data",
          "data": {
            "image/png": "[encoded data removed]",
            "text/plain": [
              "<Figure size 648x216 with 1 Axes>"
            ]
          },
          "metadata": {
            "tags": [],
            "needs_background": "light"
          }
        }
      ]
    },
    {
      "cell_type": "code",
      "metadata": {
        "id": "fanPGT6nSqby"
      },
      "source": [
        "y = df['Open'].values #setting the Open column as our Label"
      ],
      "execution_count": 5,
      "outputs": []
    },
    {
      "cell_type": "code",
      "metadata": {
        "colab": {
          "base_uri": "https://localhost:8080/"
        },
        "id": "AalqTmhlSFr5",
        "outputId": "b19bd2ad-9f52-4bbe-f302-9a108f457142"
      },
      "source": [
        "#so every new stamp of data is from a weekday. 1 year has about 261 financial days\r\n",
        "test_size = 261 #going to the last 3 months\r\n",
        "\r\n",
        "train_set = y[:-test_size] #using all the years before May 2018\r\n",
        "test_set = y[-test_size:]\r\n",
        "print(len(train_set))\r\n",
        "print(len(test_set))"
      ],
      "execution_count": 6,
      "outputs": [
        {
          "output_type": "stream",
          "text": [
            "2074\n",
            "261\n"
          ],
          "name": "stdout"
        }
      ]
    },
    {
      "cell_type": "markdown",
      "metadata": {
        "id": "nOWX2gbEDRjn"
      },
      "source": [
        "Normalizing Data"
      ]
    },
    {
      "cell_type": "code",
      "metadata": {
        "id": "mUwb3iY8KvHo",
        "colab": {
          "base_uri": "https://localhost:8080/"
        },
        "outputId": "d735cedf-d548-4095-b5e9-721624e8b6cf"
      },
      "source": [
        "#We need to normalize the data between -1 and 1, and we normalize the data because RNN's typically train better due to the way weights and biases update after normalization\n",
        "#In this dataset, we can see an order of magnitude change going from ~2 to ~25. When we have a very large change in data magnitude, it's a better idea to normalize the data\n",
        "scaler = MinMaxScaler(feature_range=(-1,1)) #so here we're scaling the values down from -1 to 1\n",
        "\n",
        "train_norm = scaler.fit_transform(train_set.reshape(-1,1))  #now we're fitting the scaling to the train_set then we're actually transforming our data to be between -1 and 1\n",
        "\n",
        "print(train_norm[0:10]) #notice how all the values are between -1 and 1 now, with row 2 being the lowest google stock has been in the last decade\n",
        "print(train_norm.shape)"
      ],
      "execution_count": 7,
      "outputs": [
        {
          "output_type": "stream",
          "text": [
            "[[-0.59363702]\n",
            " [-0.61822126]\n",
            " [-0.57339118]\n",
            " [-0.54736081]\n",
            " [-0.55314534]\n",
            " [-0.5560376 ]\n",
            " [-0.55748373]\n",
            " [-0.57628344]\n",
            " [-0.57339118]\n",
            " [-0.53434563]]\n",
            "(2074, 1)\n"
          ],
          "name": "stdout"
        }
      ]
    },
    {
      "cell_type": "markdown",
      "metadata": {
        "id": "RoA8b71aE-ul"
      },
      "source": [
        "Creating a Data Structure with 261 Timesteps and 1 Output"
      ]
    },
    {
      "cell_type": "code",
      "metadata": {
        "id": "mnsRwYDeEdBg",
        "colab": {
          "base_uri": "https://localhost:8080/"
        },
        "outputId": "d4afb649-8156-4b49-9d8e-0022b1881a4f"
      },
      "source": [
        "#so our RNN will look at the 261 stock prices before time T, and use that to predict our t+1 stock price\n",
        "#261 weekdays in 1 year\n",
        "\n",
        "X_train = [] #just creating the object for the X train\n",
        "y_train = [] #just creating the object for the y train\n",
        "\n",
        "#below we're starting with Index 261 (since we need the 261 days before i), then ending on Index 2074, which is the last row from our train set\n",
        "for i in range(261, 2074):\n",
        "  X_train.append(train_norm[i-261:i, 0])\n",
        "  y_train.append(train_norm[i,0])\n",
        "  #X_train is using data from 0 to 260, whereas y_Train is the prediction of data 261\n",
        "\n",
        "X_train, y_train = np.array(X_train), np.array(y_train) #now we have our datastructure in the right format\n",
        "X_train.shape #261 columns for data from each day"
      ],
      "execution_count": 8,
      "outputs": [
        {
          "output_type": "execute_result",
          "data": {
            "text/plain": [
              "(1813, 261)"
            ]
          },
          "metadata": {
            "tags": []
          },
          "execution_count": 8
        }
      ]
    },
    {
      "cell_type": "markdown",
      "metadata": {
        "id": "YQytY-1lJOg_"
      },
      "source": [
        "Reshaping"
      ]
    },
    {
      "cell_type": "code",
      "metadata": {
        "id": "JYVLpmocHr6q",
        "colab": {
          "base_uri": "https://localhost:8080/"
        },
        "outputId": "f748f1b2-6df2-457c-c4cf-2c9a618da31f"
      },
      "source": [
        "#we're adding another dimension in our numpy array for X_train, so we can add more indicators but also to make the shape compatible with the input format of the RNN\n",
        "X_train = np.reshape(X_train, (X_train.shape[0], X_train.shape[1], 1)) #our current X_train is 2 dimensions of X_train.shape[0] = 2203 rows and X_train.shape[1] = 2 columns, but we're adding a 3rd dimension, which is our number of indicators/predictors, which is 1. The parameters are (batch size = X_train.shape[0] (rows, which is number of stock prices), time step = X_train.shape[1] (columns), and input_dim, the predictor)\n",
        "X_train.shape"
      ],
      "execution_count": 9,
      "outputs": [
        {
          "output_type": "execute_result",
          "data": {
            "text/plain": [
              "(1813, 261, 1)"
            ]
          },
          "metadata": {
            "tags": []
          },
          "execution_count": 9
        }
      ]
    },
    {
      "cell_type": "markdown",
      "metadata": {
        "id": "YbGPZ_-HM4kf"
      },
      "source": [
        "# Part 2 - Building the RNN"
      ]
    },
    {
      "cell_type": "code",
      "metadata": {
        "id": "MzxVE7bxgZmP"
      },
      "source": [
        "def RNN():\r\n",
        "  #Initializing\r\n",
        "  regressor = tf.keras.models.Sequential() #regression is for predicting a continuous value, whereas classifier is for predicting a classification \r\n",
        "\r\n",
        "  #Adding the hidden layers\r\n",
        "  regressor.add(tf.keras.layers.LSTM(units = 50, return_sequences = True, input_shape = (X_train.shape[1],1))) #making our regressor use an LSTM layer. We had 50 neurons (or LSTM layers), our return_sequences is true because we're making a stacked LSTM layer so adding another one means this parameters must be true, and the input shape is our time step and predictor\r\n",
        "  regressor.add(tf.keras.layers.Dropout(0.4))\r\n",
        "\r\n",
        "  regressor.add(tf.keras.layers.LSTM(units = 50, return_sequences = True)) #don't need to specify our input shape anymore, only the first LSTM layer needs that\r\n",
        "  regressor.add(tf.keras.layers.Dropout(0.4))\r\n",
        "\r\n",
        "  regressor.add(tf.keras.layers.LSTM(units = 50, return_sequences = True)) #don't need to specify our input shape anymore, only the first LSTM layer needs that\r\n",
        "  regressor.add(tf.keras.layers.Dropout(0.4))\r\n",
        "\r\n",
        "  regressor.add(tf.keras.layers.LSTM(units = 50, return_sequences = False)) #return_sequences is false since we're not stacking anymore layers and just getting the output after\r\n",
        "  regressor.add(tf.keras.layers.Dropout(0.4))\r\n",
        "\r\n",
        "  #Adding the output layer\r\n",
        "  regressor.add(tf.keras.layers.Dense(units = 1)) #output of 1 as our prediction\r\n",
        "\r\n",
        "  #Compiling the ANN\r\n",
        "  regressor.compile(optimizer = 'adam', loss = 'mean_squared_error') #RMSProp is usually a good choice for RNN, but Adam is always a safe choice, and our loss is MSE since we're doing a regression problem instead of classification\r\n",
        "  #adam optimizer is usually one of the best ones for performing stochastic gradient descent  \r\n",
        "  return regressor"
      ],
      "execution_count": 10,
      "outputs": []
    },
    {
      "cell_type": "code",
      "metadata": {
        "id": "NeUzeNEEhsO-"
      },
      "source": [
        "regressor = RNN()"
      ],
      "execution_count": 11,
      "outputs": []
    },
    {
      "cell_type": "markdown",
      "metadata": {
        "id": "DcrfStvSU3D_"
      },
      "source": [
        "Fitting the RNN to the Training Set"
      ]
    },
    {
      "cell_type": "code",
      "metadata": {
        "id": "aElEwYycVUwD",
        "colab": {
          "base_uri": "https://localhost:8080/"
        },
        "outputId": "f081eb73-e213-4ee2-ea84-3e2ad848e7c2"
      },
      "source": [
        "checkpoint = tf.keras.callbacks.ModelCheckpoint(\"AMDStockPredictor_v2.h5\", monitor='loss', verbose=1, save_best_only=True, mode='auto', period=1)"
      ],
      "execution_count": 12,
      "outputs": [
        {
          "output_type": "stream",
          "text": [
            "WARNING:tensorflow:`period` argument is deprecated. Please use `save_freq` to specify the frequency in number of batches seen.\n"
          ],
          "name": "stdout"
        }
      ]
    },
    {
      "cell_type": "code",
      "metadata": {
        "id": "VYpx1oo6UthG"
      },
      "source": [
        "regressor.fit(X_train, y_train, epochs=150, batch_size = 32, callbacks=[checkpoint])"
      ],
      "execution_count": null,
      "outputs": []
    },
    {
      "cell_type": "code",
      "metadata": {
        "id": "m4NDPitSWWhn"
      },
      "source": [
        "from keras.models import load_model\n",
        "model = load_model('AMDStockPredictor_v2.h5')"
      ],
      "execution_count": 14,
      "outputs": []
    },
    {
      "cell_type": "markdown",
      "metadata": {
        "id": "tUBZM-FXboUO"
      },
      "source": [
        "# Part 3 - Making the Predictions and Visualizing the Results"
      ]
    },
    {
      "cell_type": "markdown",
      "metadata": {
        "id": "7spXFV5qb04M"
      },
      "source": [
        "Getting the Predicted Stock Price of 2017"
      ]
    },
    {
      "cell_type": "code",
      "metadata": {
        "colab": {
          "base_uri": "https://localhost:8080/"
        },
        "id": "er_qemq-ks5f",
        "outputId": "eb0e997b-0e9e-4425-ac0f-a504b6a33ca6"
      },
      "source": [
        "total = df['Open']\r\n",
        "total.shape"
      ],
      "execution_count": 15,
      "outputs": [
        {
          "output_type": "execute_result",
          "data": {
            "text/plain": [
              "(2335,)"
            ]
          },
          "metadata": {
            "tags": []
          },
          "execution_count": 15
        }
      ]
    },
    {
      "cell_type": "code",
      "metadata": {
        "colab": {
          "base_uri": "https://localhost:8080/"
        },
        "id": "m73obI80k6BR",
        "outputId": "2ef98c11-83cb-4a7b-e80e-19b3d65df36f"
      },
      "source": [
        "inputs = total[len(total) - len(test_set) - 261:].values #here we're taking the 261 days before the first test set day. To do this, we just subtract the length of the total data set by the length of the test data set, then subtract 261 to get the 261 days prior\r\n",
        "inputs.shape"
      ],
      "execution_count": 16,
      "outputs": [
        {
          "output_type": "execute_result",
          "data": {
            "text/plain": [
              "(522,)"
            ]
          },
          "metadata": {
            "tags": []
          },
          "execution_count": 16
        }
      ]
    },
    {
      "cell_type": "code",
      "metadata": {
        "colab": {
          "base_uri": "https://localhost:8080/"
        },
        "id": "QilEW_swk-lv",
        "outputId": "740984d3-8517-4d23-d7b6-031a7bffe0dd"
      },
      "source": [
        "inputs = inputs.reshape(-1,1)\r\n",
        "inputs.shape"
      ],
      "execution_count": 17,
      "outputs": [
        {
          "output_type": "execute_result",
          "data": {
            "text/plain": [
              "(522, 1)"
            ]
          },
          "metadata": {
            "tags": []
          },
          "execution_count": 17
        }
      ]
    },
    {
      "cell_type": "code",
      "metadata": {
        "colab": {
          "base_uri": "https://localhost:8080/"
        },
        "id": "xDhIdrv2sDFh",
        "outputId": "f7974ec9-77fa-40bf-db84-3dbed45b395e"
      },
      "source": [
        "inputs = scaler.transform(inputs) #we didn't use fit_transform because our scaler object was already fitted to our training set above. However, the scaling applied to our input must be the same scaling applied to the training set still, which is why we transform it still\r\n",
        "inputs.shape"
      ],
      "execution_count": 18,
      "outputs": [
        {
          "output_type": "execute_result",
          "data": {
            "text/plain": [
              "(522, 1)"
            ]
          },
          "metadata": {
            "tags": []
          },
          "execution_count": 18
        }
      ]
    },
    {
      "cell_type": "code",
      "metadata": {
        "id": "RbEQ3UpckgCG"
      },
      "source": [
        "X_test = [] #just creating the object for the X train\n",
        "\n",
        "#below we're starting with Index 261 (since we need the 261 days before i), then ending on Index 522, which is the last piece of our data set\n",
        "for i in range(261, 522):\n",
        "  X_test.append(inputs[i-261:i, 0])\n",
        "#X_train is using data from 0 to 260\n",
        "\n",
        "X_test = np.array(X_test) #now we have our datastructure in the right format"
      ],
      "execution_count": 19,
      "outputs": []
    },
    {
      "cell_type": "code",
      "metadata": {
        "colab": {
          "base_uri": "https://localhost:8080/"
        },
        "id": "c2oJ6iNCt49M",
        "outputId": "d25485f6-3a6a-4076-b238-da61e98ae0a5"
      },
      "source": [
        "#we're adding another dimension in our numpy array for X_test, so we can add more indicators but also to make the shape compatible with the input format of the RNN\r\n",
        "X_test = np.reshape(X_test, (X_test.shape[0], X_test.shape[1], 1)) #our current X_test is 2 dimensions of X_test.shape[0] = 261 rows and X_ttest.shape[1] = 261 columns, but we're adding a 3rd dimension, which is our number of indicators/predictors, which is 1 (the output). The parameters are (batch size = X_train.shape[0] (rows, which is number of stock prices), time step = X_train.shape[1] (columns), and input_dim, the predictor)\r\n",
        "X_test.shape"
      ],
      "execution_count": 20,
      "outputs": [
        {
          "output_type": "execute_result",
          "data": {
            "text/plain": [
              "(261, 261, 1)"
            ]
          },
          "metadata": {
            "tags": []
          },
          "execution_count": 20
        }
      ]
    },
    {
      "cell_type": "code",
      "metadata": {
        "id": "juRut36Im9lf",
        "colab": {
          "base_uri": "https://localhost:8080/"
        },
        "outputId": "5538ebd6-6eea-4a55-9a00-2ed8f8cd7588"
      },
      "source": [
        "predicted_stock_price = regressor.predict(X_test) #now predicting the scaled stock price between 0 and 1\n",
        "predicted_stock_price.shape"
      ],
      "execution_count": 21,
      "outputs": [
        {
          "output_type": "execute_result",
          "data": {
            "text/plain": [
              "(261, 1)"
            ]
          },
          "metadata": {
            "tags": []
          },
          "execution_count": 21
        }
      ]
    },
    {
      "cell_type": "code",
      "metadata": {
        "id": "zkt3ZkuQuYw9"
      },
      "source": [
        "predicted_stock_price = scaler.inverse_transform(predicted_stock_price) #reversing the scaling now so we can get the values in the real original monetary values"
      ],
      "execution_count": 22,
      "outputs": []
    },
    {
      "cell_type": "markdown",
      "metadata": {
        "id": "amOg999YpDHr"
      },
      "source": [
        "Visualization"
      ]
    },
    {
      "cell_type": "code",
      "metadata": {
        "colab": {
          "base_uri": "https://localhost:8080/",
          "height": 295
        },
        "id": "9W7ynMhnwBmW",
        "outputId": "dcc11739-e297-4a5b-b0b2-5f907eba6bb4"
      },
      "source": [
        "plt.plot(test_set, color = 'red', label = 'Real AMD Stock Price')\r\n",
        "plt.plot(predicted_stock_price, color = 'blue', label = 'Predicted AMD Stock Price')\r\n",
        "plt.title('AMD Stock Price Prediction')\r\n",
        "plt.xlabel('Time')\r\n",
        "plt.ylabel('Stock Price')\r\n",
        "plt.legend()\r\n",
        "plt.show()"
      ],
      "execution_count": 23,
      "outputs": [
        {
          "output_type": "display_data",
          "data": {
            "image/png": "[encoded data removed]",
            "text/plain": [
              "<Figure size 432x288 with 1 Axes>"
            ]
          },
          "metadata": {
            "tags": [],
            "needs_background": "light"
          }
        }
      ]
    }
  ]
}