{
 "cells": [
  {
   "cell_type": "markdown",
   "metadata": {
    "id": "FaGbNdJw_vVg"
   },
   "source": [
    "# Part 1 - Data Preprocessing"
   ]
  },
  {
   "cell_type": "code",
   "execution_count": 1,
   "metadata": {
    "id": "0ASLWiji9ZJr"
   },
   "outputs": [],
   "source": [
    "import numpy as np\n",
    "import matplotlib.pyplot as plt\n",
    "import pandas as pd\n",
    "from sklearn.preprocessing import MinMaxScaler\n",
    "import tensorflow as tf"
   ]
  },
  {
   "cell_type": "markdown",
   "metadata": {
    "id": "EBsjZ4SuAL1k"
   },
   "source": [
    "Importing the Dataset"
   ]
  },
  {
   "cell_type": "code",
   "execution_count": 2,
   "metadata": {
    "colab": {
     "base_uri": "https://localhost:8080/",
     "height": 437
    },
    "id": "c7ZcfaC2Pwpz",
    "outputId": "9d531de9-775a-4f9d-ce04-5df8d8879db6"
   },
   "outputs": [
    {
     "data": {
      "text/html": [
       "<div>\n",
       "<style scoped>\n",
       "    .dataframe tbody tr th:only-of-type {\n",
       "        vertical-align: middle;\n",
       "    }\n",
       "\n",
       "    .dataframe tbody tr th {\n",
       "        vertical-align: top;\n",
       "    }\n",
       "\n",
       "    .dataframe thead th {\n",
       "        text-align: right;\n",
       "    }\n",
       "</style>\n",
       "<table border=\"1\" class=\"dataframe\">\n",
       "  <thead>\n",
       "    <tr style=\"text-align: right;\">\n",
       "      <th></th>\n",
       "      <th>Open</th>\n",
       "    </tr>\n",
       "    <tr>\n",
       "      <th>Date</th>\n",
       "      <th></th>\n",
       "    </tr>\n",
       "  </thead>\n",
       "  <tbody>\n",
       "    <tr>\n",
       "      <th>2009-05-22</th>\n",
       "      <td>198.528534</td>\n",
       "    </tr>\n",
       "    <tr>\n",
       "      <th>2009-05-26</th>\n",
       "      <td>196.171173</td>\n",
       "    </tr>\n",
       "    <tr>\n",
       "      <th>2009-05-27</th>\n",
       "      <td>203.023026</td>\n",
       "    </tr>\n",
       "    <tr>\n",
       "      <th>2009-05-28</th>\n",
       "      <td>204.544540</td>\n",
       "    </tr>\n",
       "    <tr>\n",
       "      <th>2009-05-29</th>\n",
       "      <td>206.261261</td>\n",
       "    </tr>\n",
       "    <tr>\n",
       "      <th>...</th>\n",
       "      <td>...</td>\n",
       "    </tr>\n",
       "    <tr>\n",
       "      <th>2018-08-23</th>\n",
       "      <td>1219.880005</td>\n",
       "    </tr>\n",
       "    <tr>\n",
       "      <th>2018-08-24</th>\n",
       "      <td>1226.000000</td>\n",
       "    </tr>\n",
       "    <tr>\n",
       "      <th>2018-08-27</th>\n",
       "      <td>1244.140015</td>\n",
       "    </tr>\n",
       "    <tr>\n",
       "      <th>2018-08-28</th>\n",
       "      <td>1255.900024</td>\n",
       "    </tr>\n",
       "    <tr>\n",
       "      <th>2018-08-29</th>\n",
       "      <td>1255.000000</td>\n",
       "    </tr>\n",
       "  </tbody>\n",
       "</table>\n",
       "<p>2335 rows × 1 columns</p>\n",
       "</div>"
      ],
      "text/plain": [
       "                   Open\n",
       "Date                   \n",
       "2009-05-22   198.528534\n",
       "2009-05-26   196.171173\n",
       "2009-05-27   203.023026\n",
       "2009-05-28   204.544540\n",
       "2009-05-29   206.261261\n",
       "...                 ...\n",
       "2018-08-23  1219.880005\n",
       "2018-08-24  1226.000000\n",
       "2018-08-27  1244.140015\n",
       "2018-08-28  1255.900024\n",
       "2018-08-29  1255.000000\n",
       "\n",
       "[2335 rows x 1 columns]"
      ]
     },
     "execution_count": 2,
     "metadata": {
      "tags": []
     },
     "output_type": "execute_result"
    }
   ],
   "source": [
    "df = pd.read_csv('GOOGL.csv', index_col = 0, usecols = [0,1], parse_dates = True) #index_col = 0 grabs the first column and sets it to the index, parse_dates = True automatically makes pandas convert the index into a date time object. \r\n",
    "#usecols allows us to grab just the columns we want, in this case we just care about the open price of the stock\r\n",
    "df"
   ]
  },
  {
   "cell_type": "code",
   "execution_count": 3,
   "metadata": {
    "colab": {
     "base_uri": "https://localhost:8080/",
     "height": 437
    },
    "id": "lfPMDe51vf0F",
    "outputId": "38428697-c3e4-4f15-8489-341e46dab3c8"
   },
   "outputs": [
    {
     "data": {
      "text/html": [
       "<div>\n",
       "<style scoped>\n",
       "    .dataframe tbody tr th:only-of-type {\n",
       "        vertical-align: middle;\n",
       "    }\n",
       "\n",
       "    .dataframe tbody tr th {\n",
       "        vertical-align: top;\n",
       "    }\n",
       "\n",
       "    .dataframe thead th {\n",
       "        text-align: right;\n",
       "    }\n",
       "</style>\n",
       "<table border=\"1\" class=\"dataframe\">\n",
       "  <thead>\n",
       "    <tr style=\"text-align: right;\">\n",
       "      <th></th>\n",
       "      <th>Open</th>\n",
       "    </tr>\n",
       "    <tr>\n",
       "      <th>Date</th>\n",
       "      <th></th>\n",
       "    </tr>\n",
       "  </thead>\n",
       "  <tbody>\n",
       "    <tr>\n",
       "      <th>2018-05-29</th>\n",
       "      <td>1076.000000</td>\n",
       "    </tr>\n",
       "    <tr>\n",
       "      <th>2018-05-30</th>\n",
       "      <td>1073.479980</td>\n",
       "    </tr>\n",
       "    <tr>\n",
       "      <th>2018-05-31</th>\n",
       "      <td>1082.000000</td>\n",
       "    </tr>\n",
       "    <tr>\n",
       "      <th>2018-06-01</th>\n",
       "      <td>1112.869995</td>\n",
       "    </tr>\n",
       "    <tr>\n",
       "      <th>2018-06-04</th>\n",
       "      <td>1138.500000</td>\n",
       "    </tr>\n",
       "    <tr>\n",
       "      <th>...</th>\n",
       "      <td>...</td>\n",
       "    </tr>\n",
       "    <tr>\n",
       "      <th>2018-08-23</th>\n",
       "      <td>1219.880005</td>\n",
       "    </tr>\n",
       "    <tr>\n",
       "      <th>2018-08-24</th>\n",
       "      <td>1226.000000</td>\n",
       "    </tr>\n",
       "    <tr>\n",
       "      <th>2018-08-27</th>\n",
       "      <td>1244.140015</td>\n",
       "    </tr>\n",
       "    <tr>\n",
       "      <th>2018-08-28</th>\n",
       "      <td>1255.900024</td>\n",
       "    </tr>\n",
       "    <tr>\n",
       "      <th>2018-08-29</th>\n",
       "      <td>1255.000000</td>\n",
       "    </tr>\n",
       "  </tbody>\n",
       "</table>\n",
       "<p>66 rows × 1 columns</p>\n",
       "</div>"
      ],
      "text/plain": [
       "                   Open\n",
       "Date                   \n",
       "2018-05-29  1076.000000\n",
       "2018-05-30  1073.479980\n",
       "2018-05-31  1082.000000\n",
       "2018-06-01  1112.869995\n",
       "2018-06-04  1138.500000\n",
       "...                 ...\n",
       "2018-08-23  1219.880005\n",
       "2018-08-24  1226.000000\n",
       "2018-08-27  1244.140015\n",
       "2018-08-28  1255.900024\n",
       "2018-08-29  1255.000000\n",
       "\n",
       "[66 rows x 1 columns]"
      ]
     },
     "execution_count": 3,
     "metadata": {
      "tags": []
     },
     "output_type": "execute_result"
    }
   ],
   "source": [
    "df[len(df) - 66:]"
   ]
  },
  {
   "cell_type": "code",
   "execution_count": 4,
   "metadata": {
    "colab": {
     "base_uri": "https://localhost:8080/"
    },
    "id": "BHQml2IyQT_7",
    "outputId": "a55af339-6a82-4f65-d181-c6de5dc25ef7"
   },
   "outputs": [
    {
     "data": {
      "text/plain": [
       "2335"
      ]
     },
     "execution_count": 4,
     "metadata": {
      "tags": []
     },
     "output_type": "execute_result"
    }
   ],
   "source": [
    "df = df.dropna() #dropping any null values\r\n",
    "len(df) #length is the same, so there were no null values"
   ]
  },
  {
   "cell_type": "code",
   "execution_count": 5,
   "metadata": {
    "colab": {
     "base_uri": "https://localhost:8080/",
     "height": 238
    },
    "id": "BVEgybKXRtZ5",
    "outputId": "99efeb06-9614-4f29-80a2-fa79fa455496"
   },
   "outputs": [
    {
     "data": {
      "text/plain": [
       "<matplotlib.axes._subplots.AxesSubplot at 0x7efc6a71afd0>"
      ]
     },
     "execution_count": 5,
     "metadata": {
      "tags": []
     },
     "output_type": "execute_result"
    },
    {
     "data": {
      "image/png": "[encoded data removed]",
      "text/plain": [
       "<Figure size 648x216 with 1 Axes>"
      ]
     },
     "metadata": {
      "needs_background": "light",
      "tags": []
     },
     "output_type": "display_data"
    }
   ],
   "source": [
    "df.plot(figsize=(9,3)) #Looks like Google has been killing it over the past decade"
   ]
  },
  {
   "cell_type": "code",
   "execution_count": 6,
   "metadata": {
    "id": "fanPGT6nSqby"
   },
   "outputs": [],
   "source": [
    "y = df['Open'].values #setting the Open column as our Label"
   ]
  },
  {
   "cell_type": "code",
   "execution_count": 7,
   "metadata": {
    "colab": {
     "base_uri": "https://localhost:8080/"
    },
    "id": "AalqTmhlSFr5",
    "outputId": "7e12fa45-59b2-45c5-92ce-a9088eae0a0a"
   },
   "outputs": [
    {
     "name": "stdout",
     "output_type": "stream",
     "text": [
      "2269\n",
      "66\n"
     ]
    }
   ],
   "source": [
    "#so every new stamp of data is from a weekday. 1 month has about 22 financial days, so 1 quarterly report (3 months) encompasses 66 days\r\n",
    "test_size = 66 #going to the last 3 months\r\n",
    "\r\n",
    "train_set = y[:-test_size] #using all the years before May 2018\r\n",
    "test_set = y[-test_size:]\r\n",
    "print(len(train_set))\r\n",
    "print(len(test_set))"
   ]
  },
  {
   "cell_type": "markdown",
   "metadata": {
    "id": "nOWX2gbEDRjn"
   },
   "source": [
    "Normalizing Data"
   ]
  },
  {
   "cell_type": "code",
   "execution_count": 8,
   "metadata": {
    "colab": {
     "base_uri": "https://localhost:8080/"
    },
    "id": "mUwb3iY8KvHo",
    "outputId": "1e72b993-79fc-42e3-b78a-583ce5347b53"
   },
   "outputs": [
    {
     "name": "stdout",
     "output_type": "stream",
     "text": [
      "[[-0.99524644]\n",
      " [-1.        ]\n",
      " [-0.9861834 ]\n",
      " [-0.9831153 ]\n",
      " [-0.97965357]\n",
      " [-0.97297236]\n",
      " [-0.96538282]\n",
      " [-0.96563512]\n",
      " [-0.9562491 ]\n",
      " [-0.94638878]]\n",
      "(2269, 1)\n"
     ]
    }
   ],
   "source": [
    "#We need to normalize the data between -1 and 1, and we normalize the data because RNN's typically train better due to the way weights and biases update after normalization\n",
    "#In this dataset, we can see an order of magnitude change going from ~200 to ~16000. When we have a very large change in data magnitude, it's a better idea to normalize the data\n",
    "scaler = MinMaxScaler(feature_range=(-1,1)) #so here we're scaling the values down from -1 to 1\n",
    "\n",
    "train_norm = scaler.fit_transform(train_set.reshape(-1,1))  #now we're fitting the scaling to the train_set then we're actually transforming our data to be between -1 and 1\n",
    "\n",
    "print(train_norm[0:10]) #notice how all the values are between -1 and 1 now, with row 2 being the lowest google stock has been in the last decade\n",
    "print(train_norm.shape)"
   ]
  },
  {
   "cell_type": "markdown",
   "metadata": {
    "id": "RoA8b71aE-ul"
   },
   "source": [
    "Creating a Data Structure with 66 Timesteps and 1 Output"
   ]
  },
  {
   "cell_type": "code",
   "execution_count": 9,
   "metadata": {
    "colab": {
     "base_uri": "https://localhost:8080/"
    },
    "id": "mnsRwYDeEdBg",
    "outputId": "0ffafdb9-2882-4970-b059-c096e4fec3bf"
   },
   "outputs": [
    {
     "data": {
      "text/plain": [
       "(2203, 66)"
      ]
     },
     "execution_count": 9,
     "metadata": {
      "tags": []
     },
     "output_type": "execute_result"
    }
   ],
   "source": [
    "#so our RNN will look at the 66 stock prices before time T, and use that to predict our t+1 stock price\n",
    "#66 since that's around 3 months, which is also when each quarterly earnings report happens \n",
    "\n",
    "X_train = [] #just creating the object for the X train\n",
    "y_train = [] #just creating the object for the y train\n",
    "\n",
    "#below we're starting with Index 66 (since we need the 66 days before i), then ending on Index 2269, which is the last row from our train set\n",
    "for i in range(66, 2269):\n",
    "  X_train.append(train_norm[i-66:i, 0])\n",
    "  y_train.append(train_norm[i,0])\n",
    "  #X_train is using data from 0 to 65, whereas y_Train is the prediction of data 66\n",
    "\n",
    "X_train, y_train = np.array(X_train), np.array(y_train) #now we have our datastructure in the right format\n",
    "X_train.shape #66 columns for data from each day"
   ]
  },
  {
   "cell_type": "markdown",
   "metadata": {
    "id": "YQytY-1lJOg_"
   },
   "source": [
    "Reshaping"
   ]
  },
  {
   "cell_type": "code",
   "execution_count": 10,
   "metadata": {
    "colab": {
     "base_uri": "https://localhost:8080/"
    },
    "id": "JYVLpmocHr6q",
    "outputId": "8092c08d-3387-405e-8cd0-e91abe51dd15"
   },
   "outputs": [
    {
     "data": {
      "text/plain": [
       "(2203, 66, 1)"
      ]
     },
     "execution_count": 10,
     "metadata": {
      "tags": []
     },
     "output_type": "execute_result"
    }
   ],
   "source": [
    "#we're adding another dimension in our numpy array for X_train, so we can add more indicators but also to make the shape compatible with the input format of the RNN\n",
    "X_train = np.reshape(X_train, (X_train.shape[0], X_train.shape[1], 1)) #our current X_train is 2 dimensions of X_train.shape[0] = 2203 rows and X_train.shape[1] = 2 columns, but we're adding a 3rd dimension, which is our number of indicators/predictors, which is 1. The parameters are (batch size = X_train.shape[0] (rows, which is number of stock prices), time step = X_train.shape[1] (columns), and input_dim, the predictor)\n",
    "X_train.shape"
   ]
  },
  {
   "cell_type": "markdown",
   "metadata": {
    "id": "YbGPZ_-HM4kf"
   },
   "source": [
    "# Part 2 - Building the RNN"
   ]
  },
  {
   "cell_type": "code",
   "execution_count": 11,
   "metadata": {
    "id": "MzxVE7bxgZmP"
   },
   "outputs": [],
   "source": [
    "def RNN():\r\n",
    "  #Initializing\r\n",
    "  regressor = tf.keras.models.Sequential() #regression is for predicting a continuous value, whereas classifier is for predicting a classification \r\n",
    "\r\n",
    "  #Adding the hidden layers\r\n",
    "  regressor.add(tf.keras.layers.LSTM(units = 50, return_sequences = True, input_shape = (X_train.shape[1],1))) #making our regressor use an LSTM layer. We had 50 neurons (or LSTM layers), our return_sequences is true because we're making a stacked LSTM layer so adding another one means this parameters must be true, and the input shape is our time step and predictor\r\n",
    "  regressor.add(tf.keras.layers.Dropout(0.4))\r\n",
    "\r\n",
    "  regressor.add(tf.keras.layers.LSTM(units = 50, return_sequences = True)) #don't need to specify our input shape anymore, only the first LSTM layer needs that\r\n",
    "  regressor.add(tf.keras.layers.Dropout(0.4))\r\n",
    "\r\n",
    "  regressor.add(tf.keras.layers.LSTM(units = 50, return_sequences = True)) #don't need to specify our input shape anymore, only the first LSTM layer needs that\r\n",
    "  regressor.add(tf.keras.layers.Dropout(0.4))\r\n",
    "\r\n",
    "  regressor.add(tf.keras.layers.LSTM(units = 50, return_sequences = False)) #return_sequences is false since we're not stacking anymore layers and just getting the output after\r\n",
    "  regressor.add(tf.keras.layers.Dropout(0.4))\r\n",
    "\r\n",
    "  #Adding the output layer\r\n",
    "  regressor.add(tf.keras.layers.Dense(units = 1)) #output of 1 as our prediction\r\n",
    "\r\n",
    "  #Compiling the ANN\r\n",
    "  regressor.compile(optimizer = 'adam', loss = 'mean_squared_error') #RMSProp is usually a good choice for RNN, but Adam is always a safe choice, and our loss is MSE since we're doing a regression problem instead of classification\r\n",
    "  #adam optimizer is usually one of the best ones for performing stochastic gradient descent  \r\n",
    "  return regressor"
   ]
  },
  {
   "cell_type": "code",
   "execution_count": 12,
   "metadata": {
    "id": "NeUzeNEEhsO-"
   },
   "outputs": [],
   "source": [
    "regressor = RNN()"
   ]
  },
  {
   "cell_type": "markdown",
   "metadata": {
    "id": "DcrfStvSU3D_"
   },
   "source": [
    "Fitting the RNN to the Training Set"
   ]
  },
  {
   "cell_type": "code",
   "execution_count": 13,
   "metadata": {
    "colab": {
     "base_uri": "https://localhost:8080/"
    },
    "id": "aElEwYycVUwD",
    "outputId": "5edce89f-cf00-4d13-d461-a32893ad88c9"
   },
   "outputs": [
    {
     "name": "stdout",
     "output_type": "stream",
     "text": [
      "WARNING:tensorflow:`period` argument is deprecated. Please use `save_freq` to specify the frequency in number of batches seen.\n"
     ]
    }
   ],
   "source": [
    "checkpoint = tf.keras.callbacks.ModelCheckpoint(\"GoogleStockPredictor_v1.h5\", monitor='loss', verbose=1, save_best_only=True, mode='auto', period=1)"
   ]
  },
  {
   "cell_type": "code",
   "execution_count": null,
   "metadata": {
    "colab": {
     "base_uri": "https://localhost:8080/"
    },
    "id": "VYpx1oo6UthG",
    "outputId": "02b30f5e-91a5-44d8-fa43-870c451a1810"
   },
   "outputs": [],
   "source": [
    "regressor.fit(X_train, y_train, epochs=150, batch_size = 32, callbacks=[checkpoint])"
   ]
  },
  {
   "cell_type": "code",
   "execution_count": 15,
   "metadata": {
    "id": "m4NDPitSWWhn"
   },
   "outputs": [],
   "source": [
    "from keras.models import load_model\n",
    "model = load_model('GoogleStockPredictor_v1.h5')"
   ]
  },
  {
   "cell_type": "markdown",
   "metadata": {
    "id": "tUBZM-FXboUO"
   },
   "source": [
    "# Part 3 - Making the Predictions and Visualizing the Results"
   ]
  },
  {
   "cell_type": "markdown",
   "metadata": {
    "id": "7spXFV5qb04M"
   },
   "source": [
    "Getting the Predicted Stock Price of 2017"
   ]
  },
  {
   "cell_type": "code",
   "execution_count": 16,
   "metadata": {
    "colab": {
     "base_uri": "https://localhost:8080/"
    },
    "id": "er_qemq-ks5f",
    "outputId": "73b8a02b-5a49-4544-d7b0-ae20db5355af"
   },
   "outputs": [
    {
     "data": {
      "text/plain": [
       "(2335,)"
      ]
     },
     "execution_count": 16,
     "metadata": {
      "tags": []
     },
     "output_type": "execute_result"
    }
   ],
   "source": [
    "total = df['Open']\r\n",
    "total.shape"
   ]
  },
  {
   "cell_type": "code",
   "execution_count": 17,
   "metadata": {
    "colab": {
     "base_uri": "https://localhost:8080/"
    },
    "id": "m73obI80k6BR",
    "outputId": "ed89e205-21e8-4c83-fb86-89d89a5216da"
   },
   "outputs": [
    {
     "data": {
      "text/plain": [
       "(132,)"
      ]
     },
     "execution_count": 17,
     "metadata": {
      "tags": []
     },
     "output_type": "execute_result"
    }
   ],
   "source": [
    "inputs = total[len(total) - len(test_set) - 66:].values #here we're taking the 66 days before the first test set day. To do this, we just subtract the length of the total data set by the length of the test data set, then subtract 66 to get the 66 days prior\r\n",
    "inputs.shape"
   ]
  },
  {
   "cell_type": "code",
   "execution_count": 18,
   "metadata": {
    "colab": {
     "base_uri": "https://localhost:8080/"
    },
    "id": "QilEW_swk-lv",
    "outputId": "3f9024dc-4d35-4b83-9636-9f8c12361021"
   },
   "outputs": [
    {
     "data": {
      "text/plain": [
       "(132, 1)"
      ]
     },
     "execution_count": 18,
     "metadata": {
      "tags": []
     },
     "output_type": "execute_result"
    }
   ],
   "source": [
    "inputs = inputs.reshape(-1,1)\r\n",
    "inputs.shape"
   ]
  },
  {
   "cell_type": "code",
   "execution_count": 19,
   "metadata": {
    "colab": {
     "base_uri": "https://localhost:8080/"
    },
    "id": "xDhIdrv2sDFh",
    "outputId": "b5b69997-fba8-44cf-af38-e714b68bc604"
   },
   "outputs": [
    {
     "data": {
      "text/plain": [
       "(132, 1)"
      ]
     },
     "execution_count": 19,
     "metadata": {
      "tags": []
     },
     "output_type": "execute_result"
    }
   ],
   "source": [
    "inputs = scaler.transform(inputs) #we didn't use fit_transform because our scaler object was already fitted to our training set above. However, the scaling applied to our input must be the same scaling applied to the training set still, which is why we transform it still\r\n",
    "inputs.shape"
   ]
  },
  {
   "cell_type": "code",
   "execution_count": 20,
   "metadata": {
    "colab": {
     "base_uri": "https://localhost:8080/"
    },
    "id": "RbEQ3UpckgCG",
    "outputId": "dc3d1d06-7b14-4194-f9ea-025986a44761"
   },
   "outputs": [
    {
     "data": {
      "text/plain": [
       "array([0.86120598, 0.86017755, 0.88679495, 0.91066997, 0.86691252,\n",
       "       0.84178729, 0.73781762, 0.77844968, 0.82678458, 0.80807161,\n",
       "       0.85723333, 0.90220087, 0.95372195, 0.96739348, 0.91490477,\n",
       "       0.92250668, 0.93416198, 0.85836268, 0.81932371, 0.80756749,\n",
       "       0.78224067, 0.72448874, 0.72293601, 0.74975525, 0.62475374,\n",
       "       0.64350708, 0.67659741, 0.65346848, 0.61733312, 0.71444672,\n",
       "       0.6674829 , 0.66131248, 0.68192094, 0.68542959, 0.6843608 ,\n",
       "       0.71545496, 0.71275295, 0.74431062, 0.78022419, 0.76007961,\n",
       "       0.79083088, 0.78822955, 0.74027767, 0.68089252, 0.68788963,\n",
       "       0.71273277, 0.69030955, 0.65377088, 0.68946254, 0.67206034,\n",
       "       0.66044541, 0.7295703 , 0.75120706, 0.75015845, 0.81246764,\n",
       "       0.82337685, 0.83378169, 0.816299  , 0.79248429, 0.78516446,\n",
       "       0.75398981, 0.78020401, 0.80198206, 0.76205572, 0.79613423,\n",
       "       0.79542851])"
      ]
     },
     "execution_count": 20,
     "metadata": {
      "tags": []
     },
     "output_type": "execute_result"
    }
   ],
   "source": [
    "X_test = [] #just creating the object for the X train\n",
    "\n",
    "#below we're starting with Index 66 (since we need the 66 days before i), then ending on Index 132, which is the last piece of our data set\n",
    "for i in range(66, 132):\n",
    "  X_test.append(inputs[i-66:i, 0])\n",
    "#X_train is using data from 0 to 65\n",
    "\n",
    "X_test = np.array(X_test) #now we have our datastructure in the right format\n",
    "X_test[0]"
   ]
  },
  {
   "cell_type": "code",
   "execution_count": 21,
   "metadata": {
    "colab": {
     "base_uri": "https://localhost:8080/"
    },
    "id": "c2oJ6iNCt49M",
    "outputId": "773c6d92-4e99-4cf4-c0b7-0e828ae154c0"
   },
   "outputs": [
    {
     "data": {
      "text/plain": [
       "(66, 66, 1)"
      ]
     },
     "execution_count": 21,
     "metadata": {
      "tags": []
     },
     "output_type": "execute_result"
    }
   ],
   "source": [
    "#we're adding another dimension in our numpy array for X_test, so we can add more indicators but also to make the shape compatible with the input format of the RNN\r\n",
    "X_test = np.reshape(X_test, (X_test.shape[0], X_test.shape[1], 1)) #our current X_test is 2 dimensions of X_test.shape[0] = 66 rows and X_ttest.shape[1] = 66 columns, but we're adding a 3rd dimension, which is our number of indicators/predictors, which is 1 (the output). The parameters are (batch size = X_train.shape[0] (rows, which is number of stock prices), time step = X_train.shape[1] (columns), and input_dim, the predictor)\r\n",
    "X_test.shape"
   ]
  },
  {
   "cell_type": "code",
   "execution_count": 22,
   "metadata": {
    "colab": {
     "base_uri": "https://localhost:8080/"
    },
    "id": "juRut36Im9lf",
    "outputId": "c2ee32d9-d65d-41af-96c3-6192edcf79ca"
   },
   "outputs": [
    {
     "data": {
      "text/plain": [
       "(66, 1)"
      ]
     },
     "execution_count": 22,
     "metadata": {
      "tags": []
     },
     "output_type": "execute_result"
    }
   ],
   "source": [
    "predicted_stock_price = regressor.predict(X_test) #now predicting the scaled stock price between 0 and 1\n",
    "predicted_stock_price.shape"
   ]
  },
  {
   "cell_type": "code",
   "execution_count": 23,
   "metadata": {
    "id": "zkt3ZkuQuYw9"
   },
   "outputs": [],
   "source": [
    "predicted_stock_price = scaler.inverse_transform(predicted_stock_price) #reversing the scaling now so we can get the values in the real original monetary values"
   ]
  },
  {
   "cell_type": "markdown",
   "metadata": {
    "id": "amOg999YpDHr"
   },
   "source": [
    "Visualization"
   ]
  },
  {
   "cell_type": "code",
   "execution_count": 24,
   "metadata": {
    "colab": {
     "base_uri": "https://localhost:8080/",
     "height": 295
    },
    "id": "9W7ynMhnwBmW",
    "outputId": "8e1b9eb1-b2c1-45de-f010-fa10367e2103"
   },
   "outputs": [
    {
     "data": {
      "image/png": "[encoded data removed]",
      "text/plain": [
       "<Figure size 432x288 with 1 Axes>"
      ]
     },
     "metadata": {
      "needs_background": "light",
      "tags": []
     },
     "output_type": "display_data"
    }
   ],
   "source": [
    "plt.plot(test_set, color = 'red', label = 'Real Google Stock Price')\r\n",
    "plt.plot(predicted_stock_price, color = 'blue', label = 'Predicted Google Stock Price')\r\n",
    "plt.title('Google Stock Price Prediction')\r\n",
    "plt.xlabel('Time')\r\n",
    "plt.ylabel('Stock Price')\r\n",
    "plt.legend()\r\n",
    "plt.show()"
   ]
  }
 ],
 "metadata": {
  "colab": {
   "collapsed_sections": [],
   "name": "Github_RNNGoogle.ipynb",
   "provenance": [],
   "toc_visible": true
  },
  "kernelspec": {
   "display_name": "Python 3",
   "language": "python",
   "name": "python3"
  },
  "language_info": {
   "codemirror_mode": {
    "name": "ipython",
    "version": 3
   },
   "file_extension": ".py",
   "mimetype": "text/x-python",
   "name": "python",
   "nbconvert_exporter": "python",
   "pygments_lexer": "ipython3",
   "version": "3.8.3"
  }
 },
 "nbformat": 4,
 "nbformat_minor": 4
}
